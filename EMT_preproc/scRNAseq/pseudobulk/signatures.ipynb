{
 "cells": [
  {
   "cell_type": "code",
   "execution_count": 1,
   "metadata": {},
   "outputs": [],
   "source": [
    "import pandas as pd\n",
    "import numpy as np\n",
    "#import sys\n",
    "from numpy import NaN\n",
    "from scipy import stats\n",
    "import statistics\n",
    "import matplotlib.pyplot as plt\n",
    "#from matplotlib_venn import venn2\n",
    "from sklearn.svm import SVC\n",
    "#from sklearn.cluster import KMeans\n",
    "#from scipy import signal\n",
    "from scipy import linalg\n",
    "from sklearn.decomposition import FastICA, PCA\n",
    "#from sklearn.preprocessing import StandardScaler\n",
    "from mpl_toolkits.mplot3d import Axes3D\n",
    "from sklearn.metrics import plot_confusion_matrix\n",
    "\n",
    "#%matplotlib inline  \n",
    "#%matplotlib notebook\n",
    "#%pylab"
   ]
  },
  {
   "cell_type": "code",
   "execution_count": 2,
   "metadata": {},
   "outputs": [],
   "source": [
    "# uncomment this if you want to see all the dataframe\n",
    "#pd.set_option('display.max_rows', None)\n",
    "#pd.set_option('display.max_columns', None)\n",
    "#pd.set_option('display.width', None)\n",
    "#pd.set_option('display.max_colwidth', -1)"
   ]
  },
  {
   "cell_type": "code",
   "execution_count": 3,
   "metadata": {},
   "outputs": [],
   "source": [
    "# read all datasets\n",
    "\n",
    "A549_TGF_RNAseq = pd.read_csv('A549_TGFB1.pseudobulk.txt',sep='\\t',index_col=0)\n",
    "A549_EGF_RNAseq = pd.read_csv('A549_EGF.pseudobulk.txt',sep='\\t',index_col=0)\n",
    "A549_TNF_RNAseq = pd.read_csv('A549_TNF.pseudobulk.txt',sep='\\t',index_col=0)\n",
    "\n",
    "DU145_TGF_RNAseq = pd.read_csv('DU145_TGFB1.pseudobulk.txt',sep='\\t',index_col=0)\n",
    "DU145_EGF_RNAseq = pd.read_csv('DU145_EGF.pseudobulk.txt',sep='\\t',index_col=0)\n",
    "DU145_TNF_RNAseq = pd.read_csv('DU145_TNF.pseudobulk.txt',sep='\\t',index_col=0)\n",
    "\n",
    "MCF7_TGF_RNAseq = pd.read_csv('MCF7_TGFB1.pseudobulk.txt',sep='\\t',index_col=0)\n",
    "MCF7_EGF_RNAseq = pd.read_csv('MCF7_EGF.pseudobulk.txt',sep='\\t',index_col=0)\n",
    "MCF7_TNF_RNAseq = pd.read_csv('MCF7_TNF.pseudobulk.txt',sep='\\t',index_col=0)\n",
    "\n",
    "OVCA420_TGF_RNAseq = pd.read_csv('OVCA420_TGFB1.pseudobulk.txt',sep='\\t',index_col=0)\n",
    "OVCA420_EGF_RNAseq = pd.read_csv('OVCA420_EGF.pseudobulk.txt',sep='\\t',index_col=0)\n",
    "OVCA420_TNF_RNAseq = pd.read_csv('OVCA420_TNF.pseudobulk.txt',sep='\\t',index_col=0)"
   ]
  },
  {
   "cell_type": "code",
   "execution_count": 4,
   "metadata": {},
   "outputs": [],
   "source": [
    "# normalizing the datasets\n",
    "A549_TGF_RNAseq_norm_ = A549_TGF_RNAseq.subtract(A549_TGF_RNAseq['Uninhibited_Untreated'],axis=0)\n",
    "A549_EGF_RNAseq_norm_ = A549_EGF_RNAseq.subtract(A549_EGF_RNAseq['Uninhibited_Untreated'],axis=0)\n",
    "A549_TNF_RNAseq_norm_ = A549_TNF_RNAseq.subtract(A549_TNF_RNAseq['Uninhibited_Untreated'],axis=0)\n",
    "\n",
    "DU145_TGF_RNAseq_norm_ = DU145_TGF_RNAseq.subtract(DU145_TGF_RNAseq['Uninhibited_Untreated'],axis=0)\n",
    "DU145_EGF_RNAseq_norm_ = DU145_EGF_RNAseq.subtract(DU145_EGF_RNAseq['Uninhibited_Untreated'],axis=0)\n",
    "DU145_TNF_RNAseq_norm_ = DU145_TNF_RNAseq.subtract(DU145_TNF_RNAseq['Uninhibited_Untreated'],axis=0)\n",
    "\n",
    "MCF7_TGF_RNAseq_norm_ = MCF7_TGF_RNAseq.subtract(MCF7_TGF_RNAseq['Uninhibited_Untreated'],axis=0)\n",
    "MCF7_EGF_RNAseq_norm_ = MCF7_EGF_RNAseq.subtract(MCF7_EGF_RNAseq['Uninhibited_Untreated'],axis=0)\n",
    "MCF7_TNF_RNAseq_norm_ = MCF7_TNF_RNAseq.subtract(MCF7_TNF_RNAseq['Uninhibited_Untreated'],axis=0)\n",
    "\n",
    "OVCA420_TGF_RNAseq_norm_ = OVCA420_TGF_RNAseq.subtract(OVCA420_TGF_RNAseq['Uninhibited_Untreated'],axis=0)\n",
    "OVCA420_EGF_RNAseq_norm_ = OVCA420_EGF_RNAseq.subtract(OVCA420_EGF_RNAseq['Uninhibited_Untreated'],axis=0)\n",
    "OVCA420_TNF_RNAseq_norm_ = OVCA420_TNF_RNAseq.subtract(OVCA420_TNF_RNAseq['Uninhibited_Untreated'],axis=0)"
   ]
  },
  {
   "cell_type": "code",
   "execution_count": 5,
   "metadata": {},
   "outputs": [
    {
     "name": "stdout",
     "output_type": "stream",
     "text": [
      "11001\n"
     ]
    }
   ],
   "source": [
    "# taking intersection of genes\n",
    "genes_list = list(set(A549_TGF_RNAseq_norm_.index) & set(A549_EGF_RNAseq_norm_.index) & set(A549_TNF_RNAseq_norm_.index) & set(DU145_TGF_RNAseq_norm_.index) & set(DU145_EGF_RNAseq_norm_.index) & set(DU145_TNF_RNAseq_norm_.index) & set(MCF7_TGF_RNAseq_norm_.index) & set(MCF7_EGF_RNAseq_norm_.index) & set(MCF7_TNF_RNAseq_norm_.index) & set(OVCA420_TGF_RNAseq_norm_.index) & set(OVCA420_EGF_RNAseq_norm_.index) & set(OVCA420_TNF_RNAseq_norm_.index))\n",
    "print(len(genes_list))\n",
    "\n",
    "A549_TGF_RNAseq_norm = A549_TGF_RNAseq_norm_.loc[genes_list].copy()\n",
    "A549_EGF_RNAseq_norm = A549_EGF_RNAseq_norm_.loc[genes_list].copy()\n",
    "A549_TNF_RNAseq_norm = A549_TNF_RNAseq_norm_.loc[genes_list].copy()\n",
    "\n",
    "DU145_TGF_RNAseq_norm = DU145_TGF_RNAseq_norm_.loc[genes_list].copy()\n",
    "DU145_EGF_RNAseq_norm = DU145_EGF_RNAseq_norm_.loc[genes_list].copy()\n",
    "DU145_TNF_RNAseq_norm = DU145_TNF_RNAseq_norm_.loc[genes_list].copy()\n",
    "\n",
    "MCF7_TGF_RNAseq_norm = MCF7_TGF_RNAseq_norm_.loc[genes_list].copy()\n",
    "MCF7_EGF_RNAseq_norm = MCF7_EGF_RNAseq_norm_.loc[genes_list].copy()\n",
    "MCF7_TNF_RNAseq_norm = MCF7_TNF_RNAseq_norm_.loc[genes_list].copy()\n",
    "\n",
    "OVCA420_TGF_RNAseq_norm = OVCA420_TGF_RNAseq_norm_.loc[genes_list].copy()\n",
    "OVCA420_EGF_RNAseq_norm = OVCA420_EGF_RNAseq_norm_.loc[genes_list].copy()\n",
    "OVCA420_TNF_RNAseq_norm = OVCA420_TNF_RNAseq_norm_.loc[genes_list].copy()"
   ]
  },
  {
   "cell_type": "code",
   "execution_count": 6,
   "metadata": {},
   "outputs": [
    {
     "data": {
      "text/html": [
       "<div>\n",
       "<style scoped>\n",
       "    .dataframe tbody tr th:only-of-type {\n",
       "        vertical-align: middle;\n",
       "    }\n",
       "\n",
       "    .dataframe tbody tr th {\n",
       "        vertical-align: top;\n",
       "    }\n",
       "\n",
       "    .dataframe thead th {\n",
       "        text-align: right;\n",
       "    }\n",
       "</style>\n",
       "<table border=\"1\" class=\"dataframe\">\n",
       "  <thead>\n",
       "    <tr style=\"text-align: right;\">\n",
       "      <th></th>\n",
       "      <th>condition</th>\n",
       "      <th>name</th>\n",
       "      <th>pvalue</th>\n",
       "      <th>X</th>\n",
       "      <th>combinedScore</th>\n",
       "      <th>enrichedSubstrates</th>\n",
       "      <th>zscore</th>\n",
       "    </tr>\n",
       "  </thead>\n",
       "  <tbody>\n",
       "    <tr>\n",
       "      <th>0</th>\n",
       "      <td>A549_EGF_ABT-869</td>\n",
       "      <td>MAPK14</td>\n",
       "      <td>1.944615e-11</td>\n",
       "      <td>0</td>\n",
       "      <td>0</td>\n",
       "      <td>['JUN', 'POU5F1', 'SP1', 'HSP90AA1', 'RELA', '...</td>\n",
       "      <td>0</td>\n",
       "    </tr>\n",
       "    <tr>\n",
       "      <th>1</th>\n",
       "      <td>A549_EGF_ABT-869</td>\n",
       "      <td>CDK4</td>\n",
       "      <td>4.190207e-11</td>\n",
       "      <td>1</td>\n",
       "      <td>0</td>\n",
       "      <td>['RB1', 'MYC', 'SKP2', 'JUN', 'SMAD3', 'SP1', ...</td>\n",
       "      <td>0</td>\n",
       "    </tr>\n",
       "    <tr>\n",
       "      <th>2</th>\n",
       "      <td>A549_EGF_ABT-869</td>\n",
       "      <td>CSNK2A1</td>\n",
       "      <td>4.767957e-11</td>\n",
       "      <td>2</td>\n",
       "      <td>0</td>\n",
       "      <td>['JUN', 'SIRT1', 'POU5F1', 'HSP90AA1', 'RELA',...</td>\n",
       "      <td>0</td>\n",
       "    </tr>\n",
       "    <tr>\n",
       "      <th>3</th>\n",
       "      <td>A549_EGF_ABT-869</td>\n",
       "      <td>ERK2</td>\n",
       "      <td>1.197168e-10</td>\n",
       "      <td>3</td>\n",
       "      <td>0</td>\n",
       "      <td>['RB1', 'MYC', 'JUN', 'SMAD4', 'SMAD3', 'SP1',...</td>\n",
       "      <td>0</td>\n",
       "    </tr>\n",
       "    <tr>\n",
       "      <th>4</th>\n",
       "      <td>A549_EGF_ABT-869</td>\n",
       "      <td>MAPK1</td>\n",
       "      <td>1.795713e-10</td>\n",
       "      <td>4</td>\n",
       "      <td>0</td>\n",
       "      <td>['RB1', 'MYC', 'JUN', 'FOSL2', 'POU5F1', 'NCOR...</td>\n",
       "      <td>0</td>\n",
       "    </tr>\n",
       "    <tr>\n",
       "      <th>...</th>\n",
       "      <td>...</td>\n",
       "      <td>...</td>\n",
       "      <td>...</td>\n",
       "      <td>...</td>\n",
       "      <td>...</td>\n",
       "      <td>...</td>\n",
       "      <td>...</td>\n",
       "    </tr>\n",
       "    <tr>\n",
       "      <th>10717</th>\n",
       "      <td>OVCA420_TNF_CHIR99021</td>\n",
       "      <td>CSNK1A1</td>\n",
       "      <td>5.685796e-01</td>\n",
       "      <td>224</td>\n",
       "      <td>0</td>\n",
       "      <td>['RELA']</td>\n",
       "      <td>0</td>\n",
       "    </tr>\n",
       "    <tr>\n",
       "      <th>10718</th>\n",
       "      <td>OVCA420_TNF_CHIR99021</td>\n",
       "      <td>MAPK12</td>\n",
       "      <td>5.860053e-01</td>\n",
       "      <td>225</td>\n",
       "      <td>0</td>\n",
       "      <td>['JUN']</td>\n",
       "      <td>0</td>\n",
       "    </tr>\n",
       "    <tr>\n",
       "      <th>10719</th>\n",
       "      <td>OVCA420_TNF_CHIR99021</td>\n",
       "      <td>FYN</td>\n",
       "      <td>5.928887e-01</td>\n",
       "      <td>226</td>\n",
       "      <td>0</td>\n",
       "      <td>['SPI1', 'SIRT2']</td>\n",
       "      <td>0</td>\n",
       "    </tr>\n",
       "    <tr>\n",
       "      <th>10720</th>\n",
       "      <td>OVCA420_TNF_CHIR99021</td>\n",
       "      <td>PKAALPHA</td>\n",
       "      <td>6.899718e-01</td>\n",
       "      <td>227</td>\n",
       "      <td>0</td>\n",
       "      <td>['RELA']</td>\n",
       "      <td>0</td>\n",
       "    </tr>\n",
       "    <tr>\n",
       "      <th>10721</th>\n",
       "      <td>OVCA420_TNF_CHIR99021</td>\n",
       "      <td>PAK1</td>\n",
       "      <td>7.056072e-01</td>\n",
       "      <td>228</td>\n",
       "      <td>0</td>\n",
       "      <td>['HTT']</td>\n",
       "      <td>0</td>\n",
       "    </tr>\n",
       "  </tbody>\n",
       "</table>\n",
       "<p>10722 rows × 7 columns</p>\n",
       "</div>"
      ],
      "text/plain": [
       "                   condition      name        pvalue    X  combinedScore  \\\n",
       "0           A549_EGF_ABT-869    MAPK14  1.944615e-11    0              0   \n",
       "1           A549_EGF_ABT-869      CDK4  4.190207e-11    1              0   \n",
       "2           A549_EGF_ABT-869   CSNK2A1  4.767957e-11    2              0   \n",
       "3           A549_EGF_ABT-869      ERK2  1.197168e-10    3              0   \n",
       "4           A549_EGF_ABT-869     MAPK1  1.795713e-10    4              0   \n",
       "...                      ...       ...           ...  ...            ...   \n",
       "10717  OVCA420_TNF_CHIR99021   CSNK1A1  5.685796e-01  224              0   \n",
       "10718  OVCA420_TNF_CHIR99021    MAPK12  5.860053e-01  225              0   \n",
       "10719  OVCA420_TNF_CHIR99021       FYN  5.928887e-01  226              0   \n",
       "10720  OVCA420_TNF_CHIR99021  PKAALPHA  6.899718e-01  227              0   \n",
       "10721  OVCA420_TNF_CHIR99021      PAK1  7.056072e-01  228              0   \n",
       "\n",
       "                                      enrichedSubstrates  zscore  \n",
       "0      ['JUN', 'POU5F1', 'SP1', 'HSP90AA1', 'RELA', '...       0  \n",
       "1      ['RB1', 'MYC', 'SKP2', 'JUN', 'SMAD3', 'SP1', ...       0  \n",
       "2      ['JUN', 'SIRT1', 'POU5F1', 'HSP90AA1', 'RELA',...       0  \n",
       "3      ['RB1', 'MYC', 'JUN', 'SMAD4', 'SMAD3', 'SP1',...       0  \n",
       "4      ['RB1', 'MYC', 'JUN', 'FOSL2', 'POU5F1', 'NCOR...       0  \n",
       "...                                                  ...     ...  \n",
       "10717                                           ['RELA']       0  \n",
       "10718                                            ['JUN']       0  \n",
       "10719                                  ['SPI1', 'SIRT2']       0  \n",
       "10720                                           ['RELA']       0  \n",
       "10721                                            ['HTT']       0  \n",
       "\n",
       "[10722 rows x 7 columns]"
      ]
     },
     "execution_count": 6,
     "metadata": {},
     "output_type": "execute_result"
    }
   ],
   "source": [
    "KEA_df = pd.read_csv('KEAresults_July.long.txt',sep='\\t')\n",
    "KEA_df"
   ]
  },
  {
   "cell_type": "code",
   "execution_count": 7,
   "metadata": {},
   "outputs": [],
   "source": [
    "kinases = list(set(list(KEA_df['name'])))\n",
    "kinases_signatures = pd.DataFrame([],index=kinases,columns=['transcr_targets'])\n",
    "kinases_signatures['transcr_targets']=''\n",
    "#kinases_signatures"
   ]
  },
  {
   "cell_type": "code",
   "execution_count": 8,
   "metadata": {},
   "outputs": [
    {
     "data": {
      "text/html": [
       "<div>\n",
       "<style scoped>\n",
       "    .dataframe tbody tr th:only-of-type {\n",
       "        vertical-align: middle;\n",
       "    }\n",
       "\n",
       "    .dataframe tbody tr th {\n",
       "        vertical-align: top;\n",
       "    }\n",
       "\n",
       "    .dataframe thead th {\n",
       "        text-align: right;\n",
       "    }\n",
       "</style>\n",
       "<table border=\"1\" class=\"dataframe\">\n",
       "  <thead>\n",
       "    <tr style=\"text-align: right;\">\n",
       "      <th></th>\n",
       "      <th>transcr_targets</th>\n",
       "    </tr>\n",
       "  </thead>\n",
       "  <tbody>\n",
       "    <tr>\n",
       "      <th>CDK12</th>\n",
       "      <td>POLR2A,MED1</td>\n",
       "    </tr>\n",
       "    <tr>\n",
       "      <th>PTK6</th>\n",
       "      <td>AKT1,EGFR,KHDRBS1</td>\n",
       "    </tr>\n",
       "    <tr>\n",
       "      <th>MAP3K11</th>\n",
       "      <td>PIN1</td>\n",
       "    </tr>\n",
       "    <tr>\n",
       "      <th>MAP2K1</th>\n",
       "      <td>PPARG,CCND1,MAPK3,EGFR,MYC,ELK1,MAP2K1,STAT3,M...</td>\n",
       "    </tr>\n",
       "    <tr>\n",
       "      <th>JAK3</th>\n",
       "      <td>JAK1,EZH2,NFATC1,STAT1</td>\n",
       "    </tr>\n",
       "    <tr>\n",
       "      <th>...</th>\n",
       "      <td>...</td>\n",
       "    </tr>\n",
       "    <tr>\n",
       "      <th>BLK</th>\n",
       "      <td>CBL,EGFR,ERBB2</td>\n",
       "    </tr>\n",
       "    <tr>\n",
       "      <th>PDHK1</th>\n",
       "      <td>GSK3A,EGFR,MAP2K1,PRKCD,RPS6KA1,IKBKB,PTEN,HSP...</td>\n",
       "    </tr>\n",
       "    <tr>\n",
       "      <th>AMPKA2</th>\n",
       "      <td>SREBF1,FOXO3,CREB1</td>\n",
       "    </tr>\n",
       "    <tr>\n",
       "      <th>PDK-1</th>\n",
       "      <td>AKT1,PRKCD,MAP2K1,RPS6KA1</td>\n",
       "    </tr>\n",
       "    <tr>\n",
       "      <th>MAP2K7</th>\n",
       "      <td>MAPK8,GSK3A,MAPK9</td>\n",
       "    </tr>\n",
       "  </tbody>\n",
       "</table>\n",
       "<p>431 rows × 1 columns</p>\n",
       "</div>"
      ],
      "text/plain": [
       "                                           transcr_targets\n",
       "CDK12                                          POLR2A,MED1\n",
       "PTK6                                     AKT1,EGFR,KHDRBS1\n",
       "MAP3K11                                               PIN1\n",
       "MAP2K1   PPARG,CCND1,MAPK3,EGFR,MYC,ELK1,MAP2K1,STAT3,M...\n",
       "JAK3                                JAK1,EZH2,NFATC1,STAT1\n",
       "...                                                    ...\n",
       "BLK                                         CBL,EGFR,ERBB2\n",
       "PDHK1    GSK3A,EGFR,MAP2K1,PRKCD,RPS6KA1,IKBKB,PTEN,HSP...\n",
       "AMPKA2                                  SREBF1,FOXO3,CREB1\n",
       "PDK-1                            AKT1,PRKCD,MAP2K1,RPS6KA1\n",
       "MAP2K7                                   MAPK8,GSK3A,MAPK9\n",
       "\n",
       "[431 rows x 1 columns]"
      ]
     },
     "execution_count": 8,
     "metadata": {},
     "output_type": "execute_result"
    }
   ],
   "source": [
    "kinases = list(set(list(KEA_df['name'])))\n",
    "kinases_signatures = pd.DataFrame([],index=kinases)\n",
    "\n",
    "for kinase in kinases_signatures.index:\n",
    "    subs_array = []\n",
    "    for sign_idx in KEA_df.loc[KEA_df['name'] == kinase].index:\n",
    "        subs_array = subs_array + list(KEA_df.loc[sign_idx,'enrichedSubstrates'][2:-2].split(\"', '\"))\n",
    "    sign_genes = list(set(subs_array) & set(genes_list))\n",
    "    signature = ','.join(sign_genes)\n",
    "    kinases_signatures.at[kinase,'transcr_targets'] = signature\n",
    "\n",
    "\n",
    "kinases_signatures.to_csv('kinase_signatures.csv')\n",
    "kinases_signatures"
   ]
  },
  {
   "cell_type": "code",
   "execution_count": 9,
   "metadata": {},
   "outputs": [
    {
     "data": {
      "text/plain": [
       "'SP1,RB1,EGFR,MAP2K1,RXRA,CEBPB,CHUK,TGFB1I1,BHLHE40,TERF2,JUNB,CDCA5,TCF3,FOXO3,FBXW7,IER3,CDC73,NCOA1,PML,MAPK3,BARD1,NCOR2,LYN,PTEN,ATF3,JAK1,HIST1H3A,HMGA1,CBL,TOP2A,GSK3A,SMAD7,AKT1,SMAD5,RELA,SMAD1,CDH1,GTF2I,FOS,NRIP1,PARP1,ELK1,CAV1,TP53BP2,ID2,PRKCA,GSK3B,SAFB,JUN,SREBF1,SMAD3,ATF2,TCF7L2,KLF4,SRF,PRKCD,STAT1,CEBPD,E2F4,NFIC,SMAD2,CALM1,CDKN1A,NCOA3,MAPKAPK2,GADD45A,POLR2A,FOSL2,KAT5,SNAI1,HDAC4,CDK2,RBL2,PPARG,STUB1,MYC,MAPK8,RPS6KA1,MAPK1,CCAR2,TP53BP1,BANP,MYBBP1A,NFKB1,CCND1,PTPN1,MED14,NCOA6,RUNX1,EZH2,CDK1,RPS3,NFATC1,KHDRBS1,EGR1,SKP2,BCL6,BRCA1,PIM1,NR3C1,HIF1A,FOXO1,MAPK7,TLE1,JUND,SMAD4,NCOA2,CSNK2A1,CCNE1,NR2C1,STAT3,ERBB2,ETV6,NFKBIA,MED1,SP3,TUBB,SQSTM1,TP53'"
      ]
     },
     "execution_count": 9,
     "metadata": {},
     "output_type": "execute_result"
    }
   ],
   "source": [
    "ERK_sign = list(set(list(kinases_signatures.loc['ERK1','transcr_targets'].split(',')) + list(kinases_signatures.loc['ERK2','transcr_targets'].split(',')) + list(kinases_signatures.loc['MAPK1','transcr_targets'].split(',')) + list(kinases_signatures.loc['MAPK3','transcr_targets'].split(','))))\n",
    "','.join(ERK_sign)"
   ]
  },
  {
   "cell_type": "code",
   "execution_count": 10,
   "metadata": {},
   "outputs": [
    {
     "data": {
      "text/plain": [
       "'CDK8,SP1,RB1,RBBP4,EGFR,MAP2K1,DNMT3A,MDM4,FOXM1,KDM1A,CEBPB,CHUK,JARID2,SIN3A,BHLHE40,JUNB,NFKB2,TCF3,FOXO3,IER3,AURKA,VHL,IRF1,SMARCA4,CDK6,KDM5A,MSH2,ANP32A,PML,TUBB,BARD1,RBL1,SFPQ,NCOR2,LYN,RFC1,PTEN,RPL11,ATF3,TRRAP,APPL1,GPS1,CREB1,PIN1,HMGA1,TOP2A,GSK3A,SMAD7,SMC3,CARM1,SUZ12,AKT1,SMARCC1,SPEN,TOPBP1,SMAD5,HIPK2,RELA,KLF5,SMAD1,CDH1,GTF2I,CTCF,STAG1,FOS,NRIP1,MNT,SKIL,PARP1,PHF1,CTR9,CAV1,TP53BP2,USP37,ID2,PIAS1,PRKCA,GSK3B,JUN,SREBF1,SMAD3,SETDB1,E2F1,TRIM24,ATF2,KLF4,TCF7L2,MUC1,TRAF3,TOP2B,CDYL,EHMT2,SMARCA2,BRD4,STAT1,CEBPD,UBE3A,CALM1,SMAD2,CDKN1A,NCOA3,TAF1,MAPKAPK2,ATRX,GADD45A,POLR2A,TFDP1,FOSL2,KAT5,PELP1,TCF20,LRIF1,SNAI1,PPARGC1B,DAXX,HDAC4,CDK2,RBL2,PPARG,FOXA1,MYC,MAPK8,CCNA2,MAPK1,SP2,CCAR2,TP53BP1,BANP,BCL3,NFE2L2,NFKB1,CCND1,SMURF1,PTPN1,DNMT1,HUWE1,CHEK1,RELB,RUNX1,BIN1,UHRF1,EZH2,CHD4,ATXN3,CDK1,KHDRBS1,EGR1,NFATC1,SKP2,TAF3,BCL6,SIRT1,ASXL1,EHMT1,NCOR1,CSNK2B,PIM1,BRCA1,NR3C1,HIF1A,FOXO1,HSPA8,MAPK7,FANCD2,SNW1,SET,ING4,TLE1,NCOA2,SMAD4,CCNE1,JUND,KPNB1,NR2C1,KAT6A,STAT3,MECP2,STAG2,HNRNPD,PLK1,ERBB2,ETV6,MED1,NFKBIA,KMT2A,NPM1,FZR1,CCNT1,SP3,ATAD2,SQSTM1,TP53'"
      ]
     },
     "execution_count": 10,
     "metadata": {},
     "output_type": "execute_result"
    }
   ],
   "source": [
    "GSK_sign = list(set(list(kinases_signatures.loc['GSK3B','transcr_targets'].split(',')) + list(kinases_signatures.loc['GSK3BETA','transcr_targets'].split(','))))\n",
    "','.join(GSK_sign)"
   ]
  },
  {
   "cell_type": "code",
   "execution_count": 11,
   "metadata": {},
   "outputs": [
    {
     "data": {
      "text/plain": [
       "'SP1,HIST1H3A,PIAS2,PPP2R1A,STAT1,GSK3A,EGFR,EZH2,RARA,MDM4,CDKN1A,PPP1CA,EGR1,RPS3,AKT1,CHUK,MAPKAPK2,BCL6,TOPBP1,MXD1,GADD45A,YBX1,FOSL2,NCOR1,SIRT6,BRCA1,FOS,NR3C1,JUNB,PPARGC1B,TCF3,FOXO1,FOXO3,AES,CDK2,SKI,CSNK2A1,SMAD4,YAP1,GTF2F1,MYC,KAT6A,STAT3,KDM5A,PHB,MAPK1,BCL3,GSK3B,JUN,PTPN1,CHEK1,DNMT1,SMAD3,HTT,PRKCD,IKBKB,PTEN,TRRAP,H3F3A,CREB1,TP53'"
      ]
     },
     "execution_count": 11,
     "metadata": {},
     "output_type": "execute_result"
    }
   ],
   "source": [
    "AKT_sign = list(set(list(kinases_signatures.loc['AKT1','transcr_targets'].split(',')) + list(kinases_signatures.loc['AKT2','transcr_targets'].split(',')) + list(kinases_signatures.loc['AKT3','transcr_targets'].split(','))))\n",
    "','.join(AKT_sign)"
   ]
  },
  {
   "cell_type": "code",
   "execution_count": 12,
   "metadata": {},
   "outputs": [
    {
     "data": {
      "text/plain": [
       "'HIST1H3A,SMARCA2,MAPK3,STAT1,EZH2,STAT3,LYN,MAPK1,GTF2I,NFATC1,JAK1'"
      ]
     },
     "execution_count": 12,
     "metadata": {},
     "output_type": "execute_result"
    }
   ],
   "source": [
    "JAK_sign = list(set(list(kinases_signatures.loc['JAK1','transcr_targets'].split(',')) + list(kinases_signatures.loc['JAK2','transcr_targets'].split(',')) + list(kinases_signatures.loc['JAK3','transcr_targets'].split(','))))\n",
    "','.join(JAK_sign)"
   ]
  },
  {
   "cell_type": "code",
   "execution_count": 13,
   "metadata": {},
   "outputs": [
    {
     "data": {
      "text/plain": [
       "'SP1,STAT1,SMAD2,PPP1CA,EGR1,OTUB1,TGFB1I1,CDH1,SNAI1,WWP1,WWOX,MLH1,YAP1,MYC,CAV1,ERBB2,NFKB1,PML,SMURF1,SMAD3,IRF7,HSP90AA1,WWP2,TP53'"
      ]
     },
     "execution_count": 13,
     "metadata": {},
     "output_type": "execute_result"
    }
   ],
   "source": [
    "TGFB_sign = list(set(list(kinases_signatures.loc['TGFBR1','transcr_targets'].split(',')) + list(kinases_signatures.loc['TGFBR2','transcr_targets'].split(','))))\n",
    "','.join(TGFB_sign)"
   ]
  },
  {
   "cell_type": "code",
   "execution_count": 14,
   "metadata": {},
   "outputs": [
    {
     "data": {
      "text/plain": [
       "'PML,STAT6,HSP90AA1,RUVBL2,CALM1,HSPA1A,TUBB,NONO,HSPA8,DAXX,ETV6'"
      ]
     },
     "execution_count": 14,
     "metadata": {},
     "output_type": "execute_result"
    }
   ],
   "source": [
    "RIPK_sign = list(set(list(kinases_signatures.loc['RIPK1','transcr_targets'].split(',')) + list(kinases_signatures.loc['RIPK2','transcr_targets'].split(',')) + list(kinases_signatures.loc['RIPK3','transcr_targets'].split(','))))\n",
    "','.join(RIPK_sign)"
   ]
  },
  {
   "cell_type": "code",
   "execution_count": null,
   "metadata": {},
   "outputs": [],
   "source": []
  }
 ],
 "metadata": {
  "kernelspec": {
   "display_name": "Python 3",
   "language": "python",
   "name": "python3"
  },
  "language_info": {
   "codemirror_mode": {
    "name": "ipython",
    "version": 3
   },
   "file_extension": ".py",
   "mimetype": "text/x-python",
   "name": "python",
   "nbconvert_exporter": "python",
   "pygments_lexer": "ipython3",
   "version": "3.6.12"
  }
 },
 "nbformat": 4,
 "nbformat_minor": 2
}
